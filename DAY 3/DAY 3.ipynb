{
  "nbformat": 4,
  "nbformat_minor": 0,
  "metadata": {
    "colab": {
      "provenance": []
    },
    "kernelspec": {
      "name": "python3",
      "display_name": "Python 3"
    },
    "language_info": {
      "name": "python"
    }
  },
  "cells": [
    {
      "cell_type": "markdown",
      "source": [
        "TASK 1"
      ],
      "metadata": {
        "id": "mOopcUPpCqoJ"
      }
    },
    {
      "cell_type": "code",
      "execution_count": null,
      "metadata": {
        "colab": {
          "base_uri": "https://localhost:8080/"
        },
        "id": "D5z-qYy0irnc",
        "outputId": "7942cfe9-fa9a-40d5-9af7-69b452e7b719"
      },
      "outputs": [
        {
          "output_type": "stream",
          "name": "stdout",
          "text": [
            "buddy says woof!\n",
            "the dog is sleeping\n"
          ]
        }
      ],
      "source": [
        "class Dog:\n",
        "  name=\"buddy\"\n",
        "  age= 4\n",
        "\n",
        "  def bark(self):\n",
        "    print(f'{self.name} says woof!')\n",
        "  def sleep(self):\n",
        "    print(\"the dog is sleeping\")\n",
        "\n",
        "Dog1=Dog()\n",
        "Dog1.bark()\n",
        "Dog1.sleep()\n",
        "\n",
        "\n"
      ]
    },
    {
      "cell_type": "markdown",
      "source": [
        "TEXT 2"
      ],
      "metadata": {
        "id": "j0MQT_sD8QsU"
      }
    },
    {
      "cell_type": "code",
      "source": [
        "class Dog():\n",
        "  def __init__(self,name,age):\n",
        "    self.name=name\n",
        "    self.age=age\n",
        "\n",
        "  def bark(self):\n",
        "      return(f'{self.name} says woof!')\n",
        "\n",
        "  def sleep(self):\n",
        "      return(f'{self.name} is sleeping')\n",
        "\n",
        "  def play(self):\n",
        "      return(f'{self.name} playing with ball')\n",
        "\n",
        "dog1= Dog('roshan',4)\n",
        "dog2= Dog('tommy', 6)\n",
        "dog3= Dog('snofi',2)\n",
        "\n",
        "print(f'{dog1.name} is {dog1.age} years old')\n",
        "print(f'{dog2.name} is {dog2.age} years old')\n",
        "print(f'{dog3.name} is {dog3.age} years old')\n",
        "\n",
        "print(dog1.bark())\n",
        "print(dog2.sleep())\n",
        "print(dog3.play())\n",
        "\n",
        "\n"
      ],
      "metadata": {
        "colab": {
          "base_uri": "https://localhost:8080/"
        },
        "id": "gD6vRsdEmfpb",
        "outputId": "46ea1758-e4fd-4a7e-9113-83e76f834cbd"
      },
      "execution_count": null,
      "outputs": [
        {
          "output_type": "stream",
          "name": "stdout",
          "text": [
            "roshan is 4 years old\n",
            "tommy is 6 years old\n",
            "snofi is 2 years old\n",
            "roshan says woof!\n",
            "tommy is sleeping\n",
            "snofi playing with ball\n"
          ]
        }
      ]
    },
    {
      "cell_type": "markdown",
      "source": [
        "TASK 3"
      ],
      "metadata": {
        "id": "FgusYGf-oyb9"
      }
    },
    {
      "cell_type": "code",
      "source": [
        "class Dog:\n",
        "    def __init__(self, name, age):\n",
        "        self.name = name\n",
        "        self.age = age\n",
        "\n",
        "    def bark(self):\n",
        "        return f\"{self.name} says woof!\"\n",
        "\n",
        "    def sleep(self):\n",
        "        return f\"{self.name} is sleeping\"\n",
        "\n",
        "class Puppy(Dog):\n",
        "    def play(self):\n",
        "        return f\"{self.name} is playing with a ball!\"\n",
        "\n",
        "\n",
        "puppy1 = Puppy(\"Roshan\", 4)\n",
        "\n",
        "print(puppy1.bark())\n",
        "print(puppy1.sleep())\n",
        "print(puppy1.play())\n"
      ],
      "metadata": {
        "colab": {
          "base_uri": "https://localhost:8080/"
        },
        "id": "fOCWuQ2GoxD1",
        "outputId": "3b25ac28-1a35-43d4-e1fc-e3f3701cb442"
      },
      "execution_count": null,
      "outputs": [
        {
          "output_type": "stream",
          "name": "stdout",
          "text": [
            "Roshan says woof!\n",
            "Roshan is sleeping\n",
            "Roshan is playing with a ball!\n"
          ]
        }
      ]
    },
    {
      "cell_type": "markdown",
      "source": [
        "TASK 4"
      ],
      "metadata": {
        "id": "_ddtEcUOo_6c"
      }
    },
    {
      "cell_type": "code",
      "source": [
        "class Dog:\n",
        "    def __init__(self, name, age):\n",
        "        self.name = name\n",
        "        self.age = age\n",
        "\n",
        "    def bark(self):\n",
        "        return f\"{self.name} says woof!\"\n",
        "\n",
        "    def sleep(self):\n",
        "        return f\"{self.name} is sleeping\"\n",
        "class Cat:\n",
        "    def __init__(self, name, age):\n",
        "        self.name = name\n",
        "        self.age = age\n",
        "\n",
        "    def meow(self):\n",
        "        return f\"{self.name} says meow!\"\n",
        "\n",
        "    def purr(self):\n",
        "        return f\"{self.name} is purring\"\n",
        "\n",
        "class Hybrid(Dog, Cat):\n",
        "    def __init__(self, name, age):\n",
        "        super().__init__(name, age)\n",
        "\n",
        "    def hybrid_behavior(self):\n",
        "        return f\"{self.name} is a mix of both dog and cat!\"\n",
        "\n",
        "mutant = Hybrid(\"Luna\", 2)\n",
        "\n",
        "\n",
        "print(mutant.bark())\n",
        "print(mutant.sleep())\n",
        "print(mutant.meow())\n",
        "print(mutant.purr())\n",
        "print(mutant.hybrid_behavior())\n"
      ],
      "metadata": {
        "colab": {
          "base_uri": "https://localhost:8080/"
        },
        "id": "2__5v35ApB67",
        "outputId": "3de367df-95cb-48b0-c1e1-2f27f3f8d1e9"
      },
      "execution_count": null,
      "outputs": [
        {
          "output_type": "stream",
          "name": "stdout",
          "text": [
            "Luna says woof!\n",
            "Luna is sleeping\n",
            "Luna says meow!\n",
            "Luna is purring\n",
            "Luna is a mix of both dog and cat!\n"
          ]
        }
      ]
    },
    {
      "cell_type": "markdown",
      "source": [
        "TASK 5"
      ],
      "metadata": {
        "id": "OmgraiWepmn3"
      }
    },
    {
      "cell_type": "code",
      "source": [
        "class Robot:\n",
        "    def __init__(self, model, energy_level=100):\n",
        "        self._model = model\n",
        "        self.__energy_level = energy_level\n",
        "\n",
        "    def get_energy(self):\n",
        "        return self.__energy_level\n",
        "\n",
        "    def set_energy(self, new_energy):\n",
        "        if 0 <= new_energy <= 100:\n",
        "            self.__energy_level = new_energy\n",
        "        else:\n",
        "            print(\"Error: Energy level must be between 0 and 100.\")\n",
        "\n",
        "    def charge(self, amount):\n",
        "        if self.__energy_level + amount > 100:\n",
        "            self.__energy_level = 100\n",
        "        else:\n",
        "            self.__energy_level += amount\n",
        "        print(f\"{self._model} charged to {self.__energy_level}%.\")\n",
        "\n",
        "\n",
        "robot = Robot(\"Cr7\")\n",
        "\n",
        "\n",
        "print(robot.get_energy())\n",
        "robot.set_energy(50)\n",
        "print(robot.get_energy())\n",
        "\n",
        "robot.charge(30)\n",
        "print(robot.get_energy())\n"
      ],
      "metadata": {
        "colab": {
          "base_uri": "https://localhost:8080/"
        },
        "id": "F5zP5DADppBo",
        "outputId": "ef63db3a-2888-4147-bdbc-c1b246ca0143"
      },
      "execution_count": null,
      "outputs": [
        {
          "output_type": "stream",
          "name": "stdout",
          "text": [
            "100\n",
            "50\n",
            "Cr7 charged to 80%.\n",
            "80\n"
          ]
        }
      ]
    },
    {
      "cell_type": "code",
      "source": [],
      "metadata": {
        "id": "kGLu2s2LqzIp"
      },
      "execution_count": null,
      "outputs": []
    }
  ]
}